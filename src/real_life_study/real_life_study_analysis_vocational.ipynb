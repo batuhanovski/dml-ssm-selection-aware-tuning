{
 "cells": [
  {
   "cell_type": "code",
   "execution_count": 11,
   "id": "5471c5a1",
   "metadata": {},
   "outputs": [],
   "source": [
    "import pandas as pd\n",
    "from collections import defaultdict\n",
    "import seaborn as sns\n",
    "import matplotlib.pyplot as plt\n",
    "import numpy as np"
   ]
  },
  {
   "cell_type": "code",
   "execution_count": null,
   "id": "2e18291d",
   "metadata": {},
   "outputs": [
    {
     "name": "stdout",
     "output_type": "stream",
     "text": [
      "File dml_summary_5folds_fs_seed1.csv not found, skipping.\n",
      "File dml_summary_5folds_fs_seed42.csv not found, skipping.\n",
      "File dml_summary_5folds_of_seed42.csv not found, skipping.\n"
     ]
    }
   ],
   "source": [
    "\n",
    "dfs = defaultdict(lambda: defaultdict(dict))\n",
    "\n",
    "for n_folds in [3]:\n",
    "    for tuning_setting in ['fs', 'of']:\n",
    "        for seed in [1,42]:\n",
    "            try:\n",
    "                dfs[n_folds][tuning_setting][seed] = pd.read_csv(f'data/dml_summary_VOCATIONAL_{n_folds}folds_{tuning_setting}_seed{seed}.csv')\n",
    "                dfs[n_folds][tuning_setting][seed]['tuning'] = np.where(dfs[n_folds][tuning_setting][seed]['tuning']=='tune', tuning_setting, 'no_tune')\n",
    "            except FileNotFoundError:\n",
    "                print(f'File dml_summary_{n_folds}folds_{tuning_setting}_seed{seed}.csv not found, skipping.')"
   ]
  },
  {
   "cell_type": "code",
   "execution_count": 13,
   "id": "b8a9ede1",
   "metadata": {},
   "outputs": [],
   "source": [
    "all_df_list = []\n",
    "\n",
    "for nfold in dfs:\n",
    "    for setting in dfs[nfold]:\n",
    "        for seed in dfs[nfold][setting]:\n",
    "            dfs[nfold][setting][seed]['seed'] = seed\n",
    "            dfs[nfold][setting][seed]['nfold'] = nfold\n",
    "            all_df_list.append(dfs[nfold][setting][seed])\n",
    "\n",
    "full_df = pd.concat(all_df_list, ignore_index=True)"
   ]
  },
  {
   "cell_type": "code",
   "execution_count": 14,
   "id": "13a19f71",
   "metadata": {},
   "outputs": [],
   "source": [
    "full_df = full_df.drop_duplicates(subset=[col for col in full_df.columns if col != 'tuning_setting'])"
   ]
  },
  {
   "cell_type": "code",
   "execution_count": 15,
   "id": "ccff9619",
   "metadata": {},
   "outputs": [],
   "source": [
    "full_df_42 = full_df[full_df['seed']==42]"
   ]
  },
  {
   "cell_type": "code",
   "execution_count": 16,
   "id": "a4fe0d16",
   "metadata": {},
   "outputs": [],
   "source": [
    "full_df_42 = full_df_42[[\"tuning\",\"model\",\"coef_d\",\"std err_d\",\"nfold\",'P>|t|_d']]"
   ]
  },
  {
   "cell_type": "code",
   "execution_count": 17,
   "id": "8ebc4d73",
   "metadata": {},
   "outputs": [],
   "source": [
    "summary = full_df_42.pivot_table(\n",
    "    index=['nfold', 'model'],\n",
    "    columns='tuning',\n",
    "    values=['coef_d', 'std err_d','P>|t|_d'],\n",
    ")\n",
    "\n",
    "summary.columns = [f'{stat}_{tune}' for stat, tune in summary.columns]\n",
    "summary = summary.reset_index()\n"
   ]
  },
  {
   "cell_type": "code",
   "execution_count": 18,
   "id": "5f6a6995",
   "metadata": {},
   "outputs": [
    {
     "data": {
      "text/html": [
       "<div>\n",
       "<style scoped>\n",
       "    .dataframe tbody tr th:only-of-type {\n",
       "        vertical-align: middle;\n",
       "    }\n",
       "\n",
       "    .dataframe tbody tr th {\n",
       "        vertical-align: top;\n",
       "    }\n",
       "\n",
       "    .dataframe thead th {\n",
       "        text-align: right;\n",
       "    }\n",
       "</style>\n",
       "<table border=\"1\" class=\"dataframe\">\n",
       "  <thead>\n",
       "    <tr style=\"text-align: right;\">\n",
       "      <th></th>\n",
       "      <th>nfold</th>\n",
       "      <th>model</th>\n",
       "      <th>P&gt;|t|_d_fs</th>\n",
       "      <th>P&gt;|t|_d_no_tune</th>\n",
       "      <th>P&gt;|t|_d_of</th>\n",
       "      <th>coef_d_fs</th>\n",
       "      <th>coef_d_no_tune</th>\n",
       "      <th>coef_d_of</th>\n",
       "      <th>std err_d_fs</th>\n",
       "      <th>std err_d_no_tune</th>\n",
       "      <th>std err_d_of</th>\n",
       "    </tr>\n",
       "  </thead>\n",
       "  <tbody>\n",
       "    <tr>\n",
       "      <th>0</th>\n",
       "      <td>3</td>\n",
       "      <td>lasso</td>\n",
       "      <td>0.237795</td>\n",
       "      <td>0.316510</td>\n",
       "      <td>0.393198</td>\n",
       "      <td>0.323099</td>\n",
       "      <td>-523.202013</td>\n",
       "      <td>0.297003</td>\n",
       "      <td>0.273693</td>\n",
       "      <td>522.337746</td>\n",
       "      <td>0.347846</td>\n",
       "    </tr>\n",
       "    <tr>\n",
       "      <th>1</th>\n",
       "      <td>3</td>\n",
       "      <td>rf</td>\n",
       "      <td>0.398913</td>\n",
       "      <td>0.112686</td>\n",
       "      <td>0.458926</td>\n",
       "      <td>0.306872</td>\n",
       "      <td>0.611963</td>\n",
       "      <td>0.271989</td>\n",
       "      <td>0.363780</td>\n",
       "      <td>0.385796</td>\n",
       "      <td>0.367246</td>\n",
       "    </tr>\n",
       "    <tr>\n",
       "      <th>2</th>\n",
       "      <td>3</td>\n",
       "      <td>xgb</td>\n",
       "      <td>0.347561</td>\n",
       "      <td>0.291162</td>\n",
       "      <td>0.571980</td>\n",
       "      <td>0.649155</td>\n",
       "      <td>83.876802</td>\n",
       "      <td>0.410161</td>\n",
       "      <td>0.691082</td>\n",
       "      <td>79.460705</td>\n",
       "      <td>0.725771</td>\n",
       "    </tr>\n",
       "  </tbody>\n",
       "</table>\n",
       "</div>"
      ],
      "text/plain": [
       "   nfold  model  P>|t|_d_fs  P>|t|_d_no_tune  P>|t|_d_of  coef_d_fs  \\\n",
       "0      3  lasso    0.237795         0.316510    0.393198   0.323099   \n",
       "1      3     rf    0.398913         0.112686    0.458926   0.306872   \n",
       "2      3    xgb    0.347561         0.291162    0.571980   0.649155   \n",
       "\n",
       "   coef_d_no_tune  coef_d_of  std err_d_fs  std err_d_no_tune  std err_d_of  \n",
       "0     -523.202013   0.297003      0.273693         522.337746      0.347846  \n",
       "1        0.611963   0.271989      0.363780           0.385796      0.367246  \n",
       "2       83.876802   0.410161      0.691082          79.460705      0.725771  "
      ]
     },
     "execution_count": 18,
     "metadata": {},
     "output_type": "execute_result"
    }
   ],
   "source": [
    "summary[summary['nfold']==3]"
   ]
  },
  {
   "cell_type": "code",
   "execution_count": null,
   "id": "e74f48e5",
   "metadata": {},
   "outputs": [],
   "source": []
  },
  {
   "cell_type": "code",
   "execution_count": null,
   "id": "d81ba4b2",
   "metadata": {},
   "outputs": [],
   "source": []
  }
 ],
 "metadata": {
  "kernelspec": {
   "display_name": "r_env",
   "language": "python",
   "name": "python3"
  },
  "language_info": {
   "codemirror_mode": {
    "name": "ipython",
    "version": 3
   },
   "file_extension": ".py",
   "mimetype": "text/x-python",
   "name": "python",
   "nbconvert_exporter": "python",
   "pygments_lexer": "ipython3",
   "version": "3.13.0"
  }
 },
 "nbformat": 4,
 "nbformat_minor": 5
}
